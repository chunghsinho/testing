{
  "nbformat": 4,
  "nbformat_minor": 0,
  "metadata": {
    "colab": {
      "name": "基本輸入與輸出.ipynb",
      "provenance": [],
      "authorship_tag": "ABX9TyOxy9NZxZ+JvWx/BHtFyQDp",
      "include_colab_link": true
    },
    "kernelspec": {
      "name": "python3",
      "display_name": "Python 3"
    }
  },
  "cells": [
    {
      "cell_type": "markdown",
      "metadata": {
        "id": "view-in-github",
        "colab_type": "text"
      },
      "source": [
        "<a href=\"https://colab.research.google.com/github/chunghsinho/testing/blob/main/%E5%9F%BA%E6%9C%AC%E8%BC%B8%E5%85%A5%E8%88%87%E8%BC%B8%E5%87%BA.ipynb\" target=\"_parent\"><img src=\"https://colab.research.google.com/assets/colab-badge.svg\" alt=\"Open In Colab\"/></a>"
      ]
    },
    {
      "cell_type": "code",
      "metadata": {
        "id": "V2-EJEXHLXYi",
        "outputId": "836db62f-b594-4d13-ef68-55da60795519",
        "colab": {
          "base_uri": "https://localhost:8080/",
          "height": 86
        }
      },
      "source": [
        "# -*- coding: utf-8 -*-\n",
        "x = input('Enter your name:')\n",
        "print('Hello, ' + x)\n",
        "\n",
        "a = input(\"請輸入：\")\n",
        "a\n",
        "\n",
        "###  使用Python內建的type()函數顯示資料型態\n",
        "\n",
        "type(a)"
      ],
      "execution_count": 1,
      "outputs": [
        {
          "output_type": "stream",
          "text": [
            "Enter your name:Ellen\n",
            "Hello, Ellen\n",
            "請輸入：45\n"
          ],
          "name": "stdout"
        },
        {
          "output_type": "execute_result",
          "data": {
            "text/plain": [
              "str"
            ]
          },
          "metadata": {
            "tags": []
          },
          "execution_count": 1
        }
      ]
    },
    {
      "cell_type": "code",
      "metadata": {
        "id": "IHuB6dsGLouF"
      },
      "source": [
        "'''\n",
        "一個整數，\n",
        "它加上100後是一個完全平方數，\n",
        "再加上168又是一個完全平方數，\n",
        "請問該數是多少？\n",
        "'''\n",
        "while True:\n",
        "    n = 10\n",
        "    a = 1\n",
        "    x = a\n",
        "    if x + 100 == n**2:\n",
        "        print(x)\n",
        "    y = -a\n",
        "    if y+100"
      ],
      "execution_count": null,
      "outputs": []
    }
  ]
}